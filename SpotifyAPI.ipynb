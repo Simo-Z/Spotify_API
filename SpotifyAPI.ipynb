{
  "nbformat": 4,
  "nbformat_minor": 0,
  "metadata": {
    "colab": {
      "name": "SpotifyAPI.ipynb",
      "provenance": [],
      "collapsed_sections": [],
      "toc_visible": true
    },
    "kernelspec": {
      "name": "python3",
      "display_name": "Python 3"
    },
    "language_info": {
      "name": "python"
    }
  },
  "cells": [
    {
      "cell_type": "markdown",
      "source": [
        "# Spotify API Testing"
      ],
      "metadata": {
        "id": "OPrtHGmO-feF"
      }
    },
    {
      "cell_type": "markdown",
      "source": [
        "## Import Packages"
      ],
      "metadata": {
        "id": "qAVbPlMj-reV"
      }
    },
    {
      "cell_type": "code",
      "source": [
        "# !pip install spotipy\n",
        "# !pip install colab-env --upgrade"
      ],
      "metadata": {
        "id": "ePPx6DEEDxII",
        "colab": {
          "base_uri": "https://localhost:8080/"
        },
        "outputId": "053efa4e-4e37-41f4-9751-dbeab1d6e147"
      },
      "execution_count": null,
      "outputs": [
        {
          "output_type": "stream",
          "name": "stdout",
          "text": [
            "Requirement already satisfied: colab-env in /usr/local/lib/python3.7/dist-packages (0.2.0)\n",
            "Requirement already satisfied: python-dotenv<1.0,>=0.10.0 in /usr/local/lib/python3.7/dist-packages (from colab-env) (0.20.0)\n"
          ]
        }
      ]
    },
    {
      "cell_type": "code",
      "execution_count": null,
      "metadata": {
        "id": "a-v_nA8W9OgX"
      },
      "outputs": [],
      "source": [
        "import colab_env\n",
        "import spotipy\n",
        "from spotipy.oauth2 import SpotifyOAuth\n",
        "import pandas as pd\n",
        "import seaborn as sns\n",
        "import os"
      ]
    },
    {
      "cell_type": "code",
      "source": [
        "'''\n",
        "colab_env.envvar_handler.add_env(\"SPOTIPY_CLIENT_ID\", \"6832a9f3f34645d88778d6f4ddd919dd\", overwrite=True)\n",
        "colab_env.envvar_handler.add_env(\"SPOTIPY_CLIENT_SECRET\", \"588c985746af48379cf666a514e48902\", overwrite=True)\n",
        "colab_env.envvar_handler.add_env(\"SPOTIPY_REDIRECT_URI\", \"https://localhost:8888/callback\",  overwrite=True)\n",
        "'''\n",
        "!more gdrive/My\\ Drive/vars.env\n"
      ],
      "metadata": {
        "colab": {
          "base_uri": "https://localhost:8080/"
        },
        "id": "PNTJLrZLJuOv",
        "outputId": "4407cf53-3077-4103-e1c2-e88c9faf08e5"
      },
      "execution_count": null,
      "outputs": [
        {
          "output_type": "stream",
          "name": "stdout",
          "text": [
            "COLAB_ENV = Active\n",
            "SPOTIPY_CLIENT_ID = 6832a9f3f34645d88778d6f4ddd919dd\n",
            "SPOTIPY_CLIENT_SECRET = 588c985746af48379cf666a514e48902\n",
            "SPOTIPY_REDIRECT_URI = https://localhost:8888/callback\n"
          ]
        }
      ]
    },
    {
      "cell_type": "markdown",
      "source": [
        "## Spotify Credentials"
      ],
      "metadata": {
        "id": "aau-H5aC9_7B"
      }
    },
    {
      "cell_type": "code",
      "source": [
        "SPOTIPY_CLIENT_ID=os.getenv('SPOTIPY_CLIENT_ID')\n",
        "SPOTIPY_CLIENT_SECRET=os.getenv('SPOTIPY_CLIENT_SECRET')\n",
        "SPOTIPY_REDIRECT_URI=os.getenv('SPOTIPY_REDIRECT_URI')\n"
      ],
      "metadata": {
        "colab": {
          "base_uri": "https://localhost:8080/",
          "height": 35
        },
        "id": "0MT2dh7jPXuw",
        "outputId": "ccd40626-dcda-48f1-e032-3f53ac386902"
      },
      "execution_count": null,
      "outputs": [
        {
          "output_type": "execute_result",
          "data": {
            "text/plain": [
              "'6832a9f3f34645d88778d6f4ddd919dd'"
            ],
            "application/vnd.google.colaboratory.intrinsic+json": {
              "type": "string"
            }
          },
          "metadata": {},
          "execution_count": 10
        }
      ]
    },
    {
      "cell_type": "code",
      "source": [
        "scope = 'playlist-modify-public'\n",
        "username = 'algreco1992'\n",
        "# get a token using info from the app\n",
        "token = SpotifyOAuth(scope=scope, client_id=SPOTIPY_CLIENT_ID, \n",
        "                     client_secret=SPOTIPY_CLIENT_SECRET, \n",
        "                     redirect_uri=SPOTIPY_REDIRECT_URI,\n",
        "                     open_browser=False)\n"
      ],
      "metadata": {
        "id": "MAvicviB9fV7"
      },
      "execution_count": null,
      "outputs": []
    },
    {
      "cell_type": "code",
      "source": [
        "spotifyObject = spotipy.Spotify(auth_manager = token)"
      ],
      "metadata": {
        "id": "lZqznXwmQ3He"
      },
      "execution_count": null,
      "outputs": []
    },
    {
      "cell_type": "code",
      "source": [
        "playlistName = \"[Psychedelic][folk]\"\n",
        "playlist = spotifyObject.user_playlistcreate(user=username,name=playlistName,public=True,description=\"\")\n",
        "#playlist_id = playlist[\"id\"]\n",
        "\n",
        "spotifyObject.playlist_add_items(playlist_id, items=song_ids, position=0)"
      ],
      "metadata": {
        "id": "ZTF4WbHdRlkW"
      },
      "execution_count": null,
      "outputs": []
    },
    {
      "cell_type": "code",
      "source": [
        "pf_playlist = spotifyObject.playlist_items('0RykETmAIgvZ3nl6P9L6zJ?si=c964d99bd1ed42f1')\n",
        "pf_playlist\n",
        "\n"
      ],
      "metadata": {
        "id": "Sc-SChQ4kC95"
      },
      "execution_count": null,
      "outputs": []
    },
    {
      "cell_type": "code",
      "source": [
        "pf_playlist['tracks']['items'][0]['track']['id']"
      ],
      "metadata": {
        "colab": {
          "base_uri": "https://localhost:8080/",
          "height": 35
        },
        "id": "zS8sHBPimWbW",
        "outputId": "776590ac-8fac-4458-a454-6fb5f774b08a"
      },
      "execution_count": null,
      "outputs": [
        {
          "output_type": "execute_result",
          "data": {
            "text/plain": [
              "'23h2E9vii66VFQN3PWwooV'"
            ],
            "application/vnd.google.colaboratory.intrinsic+json": {
              "type": "string"
            }
          },
          "metadata": {},
          "execution_count": 87
        }
      ]
    },
    {
      "cell_type": "code",
      "source": [
        "ids = [x['track']['id'] for x in pf_playlist['tracks']['items']]\n",
        "ids"
      ],
      "metadata": {
        "colab": {
          "base_uri": "https://localhost:8080/"
        },
        "id": "HJUFarkIlBGn",
        "outputId": "08b29fa2-ff4d-4b2a-a24c-86f0b49e6e0e"
      },
      "execution_count": null,
      "outputs": [
        {
          "output_type": "execute_result",
          "data": {
            "text/plain": [
              "['23h2E9vii66VFQN3PWwooV',\n",
              " '7AL6qzIDHIX7pEUWrzNiIs',\n",
              " '0Ph7S53k8tIhOw1oAJbITS',\n",
              " '5KxAfjikxdKFMkJqVDhmd7',\n",
              " '2fvi6I5iNK69YNhYJqwTF1',\n",
              " '4vpeKl0vMGdAXpZiQB2Dtd',\n",
              " '1OVtS5FkXx73hqQmWflOA5',\n",
              " '42yexCY4dCftowtAZXuAIj',\n",
              " '6QiRFf6spEpBxAw2J26tAM',\n",
              " '6nS5KDw4yXhzNqUbNmipWu',\n",
              " '5swUhFHoLqZKq479ZSqUOq',\n",
              " '660r8nKPvYmfLdf7U5h9JG',\n",
              " '6MuBu77oRvjqViktfnwtBf',\n",
              " '1NTIpjAPBLSaOE57l7VVLi',\n",
              " '0H0g1bov9Zf2Ebqgod7R9R',\n",
              " '044zA9j6nrU6MgXS135rMU',\n",
              " '7zRJoQBjGMcO9Z2S214cym',\n",
              " '5iJoCwE8V2niREBvF99hoB',\n",
              " '1eEkM8F3h9r8D5XSQEMRuD',\n",
              " '3Lj7w9T4QfzIRMMUxKsDI8',\n",
              " '6pNnzIVY9LVH5w6jXkK85L',\n",
              " '34LX6aJg9b0jTpudPYjOq8',\n",
              " '2pIMGVRXPNJKVw0B5KwLsM',\n",
              " '7dbI4g3m8A0isJVvYk2xdD',\n",
              " '27YaYywij2KRUb8uvNoMVl',\n",
              " '4K3glAui6GSMQfYWxC0qy9',\n",
              " '3tPQ3ldJq0lFvnLkOSr5mk',\n",
              " '44ENmWvaX1fwj2dpspTjeC',\n",
              " '2Q5huzbS3F3YgyTowehUdv',\n",
              " '27szpRY8aiAeiGiZbJeygc',\n",
              " '55GvRwJqX0XP3ANQB7g6t5',\n",
              " '6SbBuQIcxth9hiGZnYMXaE',\n",
              " '3RkQ3UwOyPqpIiIvGVewuU',\n",
              " '0O87QQVWgCkkXAfrhsal55',\n",
              " '1ZUv3ISx2nFaz0JimVdcoT',\n",
              " '7jP44G0vKQLkfJ3x19pqPn',\n",
              " '5rKAdeLaP3WvdSi3kbNSDj',\n",
              " '54eZmuggBFJbV7k248bTTt',\n",
              " '3doCN5B3fuqeJ06AY6Cbxx']"
            ]
          },
          "metadata": {},
          "execution_count": 88
        }
      ]
    },
    {
      "cell_type": "code",
      "source": [
        "features = sp.audio_features(ids)"
      ],
      "metadata": {
        "id": "-pxYSlyVrjRs"
      },
      "execution_count": null,
      "outputs": []
    },
    {
      "cell_type": "code",
      "source": [
        "features[0]"
      ],
      "metadata": {
        "colab": {
          "base_uri": "https://localhost:8080/"
        },
        "id": "l6QlMN0er8nw",
        "outputId": "1c54b57e-7cc2-4706-89b3-aeb8fcfcdd13"
      },
      "execution_count": null,
      "outputs": [
        {
          "output_type": "execute_result",
          "data": {
            "text/plain": [
              "{'acousticness': 0.597,\n",
              " 'analysis_url': 'https://api.spotify.com/v1/audio-analysis/23h2E9vii66VFQN3PWwooV',\n",
              " 'danceability': 0.534,\n",
              " 'duration_ms': 229373,\n",
              " 'energy': 0.297,\n",
              " 'id': '23h2E9vii66VFQN3PWwooV',\n",
              " 'instrumentalness': 0.00562,\n",
              " 'key': 11,\n",
              " 'liveness': 0.177,\n",
              " 'loudness': -15.676,\n",
              " 'mode': 0,\n",
              " 'speechiness': 0.0393,\n",
              " 'tempo': 99.259,\n",
              " 'time_signature': 4,\n",
              " 'track_href': 'https://api.spotify.com/v1/tracks/23h2E9vii66VFQN3PWwooV',\n",
              " 'type': 'audio_features',\n",
              " 'uri': 'spotify:track:23h2E9vii66VFQN3PWwooV',\n",
              " 'valence': 0.65}"
            ]
          },
          "metadata": {},
          "execution_count": 94
        }
      ]
    },
    {
      "cell_type": "markdown",
      "source": [
        "## features exploration"
      ],
      "metadata": {
        "id": "-vk9bjH4kDXz"
      }
    },
    {
      "cell_type": "code",
      "source": [
        "scope = \"user-library-read\"\n",
        "username = 'algreco1992'\n",
        "# get a token using info from the app\n",
        "token = SpotifyOAuth(scope=scope, client_id=SPOTIPY_CLIENT_ID, \n",
        "                     client_secret=SPOTIPY_CLIENT_SECRET, \n",
        "                     redirect_uri=SPOTIPY_REDIRECT_URI, open_browser=False)"
      ],
      "metadata": {
        "id": "VTcdrqS7TqvD"
      },
      "execution_count": null,
      "outputs": []
    },
    {
      "cell_type": "code",
      "source": [
        "sp = spotipy.Spotify(auth_manager=token)\n",
        "\n",
        "results = sp.current_user_saved_tracks()\n",
        "for idx, item in enumerate(results['items']):\n",
        "    track = item['track']\n",
        "    print(idx, track['artists'][0]['name'], \" – \", track['name'])\n"
      ],
      "metadata": {
        "colab": {
          "base_uri": "https://localhost:8080/"
        },
        "id": "WTwwlxuvTPsT",
        "outputId": "c59aa86e-5f24-41e7-ce7b-08490785f2cf"
      },
      "execution_count": null,
      "outputs": [
        {
          "output_type": "stream",
          "name": "stdout",
          "text": [
            "0 The Kills  –  Last Day Of Magic\n",
            "1 Nick Cave & The Bad Seeds  –  O Children\n",
            "2 Else  –  Ambre\n",
            "3 Howling  –  Howling - Âme Remix\n",
            "4 Bob Dylan  –  Tangled up in Blue\n",
            "5 Christine and the Queens  –  People, I've been sad\n",
            "6 Big Thief  –  Little Things\n",
            "7 Oum Shatt  –  Power to the Women of the Morning Shift\n",
            "8 Arooj Aftab  –  Last Night\n",
            "9 Peter Broderick  –  Eyes Closed and Traveling\n",
            "10 Sync24  –  White Pixels\n",
            "11 Sly & The Family Stone  –  If You Want Me to Stay\n",
            "12 Gabriels  –  Blame\n",
            "13 Aphex Twin  –  Mt Saint Michel + Saint Michaels Mount\n",
            "14 Jamie xx  –  Idontknow\n",
            "15 MUNYA  –  Cocoa Beach\n",
            "16 The Haunted Youth  –  Coming Home\n",
            "17 Art School Girlfriend  –  Softer Side\n",
            "18 Runnner  –  Urgent Care\n",
            "19 Lewis OfMan  –  Siesta Freestyle\n"
          ]
        }
      ]
    },
    {
      "cell_type": "code",
      "source": [
        "results['items'][0]['track'].keys()"
      ],
      "metadata": {
        "id": "a-MKElSUTvUY"
      },
      "execution_count": null,
      "outputs": []
    },
    {
      "cell_type": "code",
      "source": [
        "ids = [x['track']['id'] for x in results['items']]"
      ],
      "metadata": {
        "id": "BiPC2WnIbguL"
      },
      "execution_count": null,
      "outputs": []
    },
    {
      "cell_type": "code",
      "source": [
        "audio_analysis_result = sp.audio_analysis(ids[1])"
      ],
      "metadata": {
        "id": "EXl2tjCpd4p7"
      },
      "execution_count": null,
      "outputs": []
    },
    {
      "cell_type": "code",
      "source": [
        "audio_analysis_result.keys()"
      ],
      "metadata": {
        "colab": {
          "base_uri": "https://localhost:8080/"
        },
        "id": "368mdwjnfVMH",
        "outputId": "af3ef3f2-bb8d-43bc-eded-f45b6874886a"
      },
      "execution_count": null,
      "outputs": [
        {
          "output_type": "execute_result",
          "data": {
            "text/plain": [
              "dict_keys(['meta', 'track', 'bars', 'beats', 'sections', 'segments', 'tatums'])"
            ]
          },
          "metadata": {},
          "execution_count": 59
        }
      ]
    },
    {
      "cell_type": "code",
      "source": [
        "audio_analysis_result['track']"
      ],
      "metadata": {
        "colab": {
          "base_uri": "https://localhost:8080/"
        },
        "id": "g7moLfYBfr8R",
        "outputId": "634625e3-d77e-4d1b-c57b-75623f576f78"
      },
      "execution_count": null,
      "outputs": [
        {
          "output_type": "execute_result",
          "data": {
            "text/plain": [
              "{'analysis_channels': 1,\n",
              " 'analysis_sample_rate': 22050,\n",
              " 'code_version': 3.15,\n",
              " 'codestring': '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',\n",
              " 'duration': 411.38666,\n",
              " 'echoprint_version': 4.12,\n",
              " 'echoprintstring': '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',\n",
              " 'end_of_fade_in': 4.93424,\n",
              " 'key': 4,\n",
              " 'key_confidence': 0.371,\n",
              " 'loudness': -7.064,\n",
              " 'mode': 0,\n",
              " 'mode_confidence': 0.507,\n",
              " 'num_samples': 9071076,\n",
              " 'offset_seconds': 0,\n",
              " 'rhythm_version': 1.0,\n",
              " 'rhythmstring': 'eJxVnQmSXDkOQ6-SR9C-3P9iLeKBv9wR0zG2K-svWkgQgJi1ljZ_vf3Or9axf22__--_1X9j_Or791rmb5_fuL8aPyv7N-avnvVb9zfb7_1Kbe0334_3-K33o15-Y71_nL-5f_P9qQz9ra738_h0_a247Ipfav3dd_f4jfePp-g-9fxW_fX5fi8uv-JqS79b9-_dOe5U3-1r379df-_X77vgff9QSjzWOPqFWq-epL4XWPEw8eN63mN33aOO8uM96srfeBd-DxHv9X7pvmeIJz3xy6285xt89A1Lezfu7yn1VnG99buVa61fq-9G7f3rG7i4oa77Ljf53brnr2mg328Mjem78jl64jcot-iyJ65e9UB1vv-_74LzjeN4T1f1WDFyb5Tau8B7hhOD8K76hnC9X3nP0GrM2uE53oO3-J2Yqh6Xjcu_j8do9KmJjDvFVWIS7uSjb1jjk28i9_vEjtFvGv0YmvcoNf5_x9i3X8zUWy6xCuJDbx3FaJcYfl07frZZRy1GSAuivWlonZ_GDMWzviXzxrfFZTVvldvENPel8Ys3LO_Hb5XGp2plGFuMRyyTeoder8Xq6--_9xj18vpHK_p99o1WrJU3UpqGqztoLdSfx0Lrsenn7epFYjwPC6m-K70HyL_FtL4_x6O914vJjkd7oxfP8m4UQ6pB7HqlGKYY2rcG3zjexZT1y-CVrRGZXl47HuFdPF5Bw7xjw7xfir-827Rd4o_tDeCb0FhBb8befXfMekxlLJN3s7chYv-OWGLvulooLbZB7JTSuPd7rdgYU6_1LnxjKSkoaPEUbevLm1Y20_vwG6peeIujiX6Xuozg27Dt7YF4xuYxKHqmeJ43w-9B30qPPfEePhZArPPjj2qhxtBVdt9b1LEtYubenvEb6PmKltfpsRXfJdv7hxjreOF4ghiV9zTxhhFB3rNebf_4zHu35XUU_20CgZ89BkSh6F1a_y3vv5ikF9quFmHrnRAT8ZA9otDG6tF2LUTCo0mNi77wR6S5ftHCHYYjTSwe7bzDc8c14_3eTGtfb_ZwrLPvWVeEktYuI_hG8l07VtfMcSzaYO9Sh8im_Ti0l2IjvlFrMY-xH3r7XjR-LW59tYDeJOxYVoc3egElltNbvLHI29ZCPJv0sBV8FcoUI-KpYxENdldn210Fg4hYscW1Vau2f4sJiTzxZjwCToyNQrhG8T3F6GSUd5_qJXNj5cXWeD-IeYngGtE7hjieuzX9fsxNZ0PGyL4UECs7pit-eDyHrIm4xNsgsU_eBSMCb-b7sLtjIjb5T7kkYsWN1NpZ6REl3rp8TxCDFgMcIYGk85ZC3DjernmG4uJvaEZnGt8kRACPJ2x62_e3y6S8m14Nv2btLYvDVo5oWRzkBzeIcbl-36H8edn58VTlW6Bj_31Gr3R1FcWQwRsW5d3Y-RqJw9Ji6-mHVXtRY7diXt4dtuOfFuH7ZP95Hy3FtQifcafi_e8Lxjo8SipKt2-fvQGPvaDQ3bW23txctsMgvWr034VGJONFuo95irCrTB0P_y7SmjboXM5hSp2tasUe5aLNTmzvbeL-m-BXiBXvofZWYI3ZHUxGpKrr92g8o0L2G-Br4BLrdseExtRGKnz77Hr8GMp3jQgpS7hI8ScWKrHA-yCm4T1VJOhtpHRACRHHIzso_CkIXMXftwqWUUkh3k3NQQaBy46OzHEUTN4SihmIDNE0P1rng7FUwGGu3kfjgbteSZFB-wgYEeHMSW17-8VobUG6-JdY1CUmRSiSHBFxsDrKV-YiYtxb5JM5iY1BmI-lVrVRuiJj5Patu79ffp9eyofaRBGktRRjQB8ujAFlSdZ47kAry4itxz3b-0xAM--DBXRV8jwEogCXM4ZLkbAoNm4mmy002aon7jrIOoQGjW4rrLp32xFJnOW-_jZJpPHYp5rXtzWVzBOHbuY5RvwqhL-7v88dvXAT0lxcaSaie_vh_Vvrk7hwlH4Vd4ZQQ-TJpai4tU_iHleoNOJrbBcDLJ7__SUu-1K-XrjG7ff925cqCTaZKRZ_PH0Exxj3pYl80xSLLTZLJ5LEmx4jt6tUGBPSwcVFcHQnglfU0FisIYgeY7SU1iLycwuF39hN784RraZD0SB-tZi7wdPG9L09O0mB8U6-psJU5oatUL0VJd4FX8h4Qz49zKe7BuhKs5fhDTgylCCUQIQ941OMkFZzhKP3C5MM3I19K4h0anXG3yIdvE0SobpGXGLBTfLxUi10gH-xu6d33Ut4sRuGIQ64sTozvFImXrN-iLa955lZH7gaWbqs4KY2uVZ_J8rzsRbPU7ci7tXgKNMvHruo8IrnncKW71li9RjBFlZ2AfxHlBqsxmUEEu9TCRk7cvGmuFzMW8Qgv-kSZN0n69jAiFchbrPDpyZVJYfKhsu9qkKptl43ONJNt6FT1URrIrpS7PvH979BbRPrKjLnQ7GGb3q6ruJsqODQswpmCKrHowyWTDw61eMxXF1k4Li-QVFcdbLZhlZrBPhDreXrZpR9P-3vzxeo77KoaqVWQf6Ihcs1UVfxE9m9CTQuVSNvVHaWLYN5fFv_XVwYkVkB20eYJT4c7ZtJuRkArWhSRoy1JmuC2FXMvPkWPmnxkfdYb-gjs3Vt-XaY3Bp7dijuKl9fP3YzACwaj7eZYk5jLl_dtlW7iyygFtHmHxrgeLwtmLm7srY3mPOO6IOhEYp3FLDaXxCIhE2sYeQVyyYESY8rDAYwNv40-I6LxlrYKmzAUc3lI7kC6KDg3jLxvrmKyNsXb9_YcoGoL0RMgero8ZO1cg8pS7lKHs5rATj3j5Qp5LdiyJQ7KoVv0UANA9Qj9Cio3nlXAnXsbhccrbLE3ucCEWgLLd1JRZXZgKy7jspeRaD3Cm8JBpc09DKtmCWJddKpmYfw1BIhogTdr3bq-xWB0f6jzo0_BctChTuUbRwAAvU0hvMowQmkaEAB_coU16yAt04xviBeCeix9Qesk94nUA70VOTUU0mYztPCFosrq6xZypbxEpGJpnbhV39EMcywEK6GQ9l1mNeMKhiwCGIhxfxFiWkCZy7nmVh2KtirmTnisTLN7LATptKiOBDZ1o6R6DS02eS-TkRQ8tqshwiKx8FjUblr0mNzxv_PYpiusH0nLFnnXaMKjSV9fZvYqAnPB_hWgGeyEo4iwxLimnB9jZQ1jRFiSUJBdir6gJGMj16HKQ_M5ipfmQUaTLOrijFWxwWhzeNZqeCsTpza8FNzeGb_CrigLK9L0MX2j4QX4STQ-M66IwIZz6crzGUMOTRtESwJWqY1Yg4X3KahLXGOsnC0v_F8r9AakIKsSESJhSAgB7qHTvsq4xhaxZ9t3hSWIILtMKUUDEynvHvj20S1zBjZmGHNtjKHmOAuwmlW0igX05YUjlV2gPl19G1RAXbWVW_fBt3Ki7FAIn92QcWABqYst8BkzGJTTCX0DAa5uxAdCh5TrO2mgN-u3COaHQJXgQrSmJGK43WmGEqRNvMkYUxh0ofI7fHHtFy46A1MaRGuLoyDtrArC82cEjbB4b2qSD4eabBpFzkPum0DtO6m1BusxStoHP8bBPpXoO2sjinLCiDbmGmKBjDFGZ9-E9hL55NFd4qX-5syrd5Vv6FWvhtaT3BSUTFop22IKpOfhTUQv13BE0EMxBuwjSLbH1iVIZinFdXIKlHBEOuV-qqC1rvrULUhNHuhUmMuh4nVrw5pwu9HUH8Z7jRnoAMnJLQUcLuBsJu3CA_YBP1UeL8BExaEFth8RK90SdeDMix-ZWpdwn5UNlJnRTRVdidiGSyJqr4NingbP_DbcNUEfnsr9IDarn4xkn83XjncMpaZZu6wvI6QziXStwNbMQQTDryPdnHQyKyL7RK1wJNs5dULVI-deUTXihlr5o2agEdElq2aPQrtqELiA03cc4AEvbJCpPay8E9WXgcKNILHYN0FoR2MePWswAgdXyeCz67G6G-crijDqLnjF8VdDbGNEwIwLqUIGIula2MI51SXJS5UmlbxvqnsxFoQ3QZD8C5yiHjSFzqBR-lnaYKGJ3iOBHxH3FOwGp206_h00J8E0tFBKNxi8RzLSsthYGu7L-0oRcKaFbAKTmF6Jw-F12SNYpP7j5eSTrEkJKipbC7khe5xvL61TEnPWxWqOKg2YMdgH68gdlxqEDQr8T7-Gks9ZsDMIMS2q8_FAwyTYGM6mL2Rj-0F5RJXVtxrkrxAzlFQz0gmh8vC7SwN_xTTGdEh3r2ouB5UnEeAQBQVgpjhH_l-sU1jMUdIKNoESxkm1kMHpIH9JTxd8ITp4Vg7hyUtACPQ2JtLw6OKRJmuKbpdCDQLYnH1uNt0Hi7IIxedbYupWM7EVxBm6d-GCtjeQNcdfniY3jsf5TM82kPccwR2swxR3m4N2xvJCArLaZ7ydW6rR9D61xx7ESBUod9YxhUuY4v03NshJ976kh4FJh8k2Cw-WIBNIR7vB9fkGKDfs1S7hHyq7h8hC9IyAMKizIoXm9s8vFJzVBh3I7S12BYa5Lcgona6jEJEEwsNkzzVlE6m8_20LugpOhAZ1bxLBaEoMQay6BGItvjBABZ6deiydqqHLylOsYwGtld8pzKoea9gxqgt7ySJs1bE0QxH9c7mLSYEU8R9YUhE5VGSmRJY9vyUEdTyKfhjUqAhgMU2u0lmLeZlUQMvxYypYQz9Yd0kXIDI1HXCwYPwcKiKeNVeKJehoY-Zi01QWcIQQ_xPPyL88qdSHdmYa_mmkc0F9vU7C0pDFWifkgCulUigZkxX7NI9gTYX9RNMJOQw4Ty1Y5dZqg53N5w3LIvUTyZqIEsx7BBwhRhyVB7HFEeKmobHSiQEzVWtqUMsUGO1lDukDYgBtdALyb1dhx9R0wgSIlCXyKGVuv7OUY6APVwfTOPaLioX6LP-fkHFKqxTn39g13R8Fd5cogz9mgFlOzt0jw_nRZAQZ2zFVwBTLFkK_5E8gkWe054F_7cQH1o3gdp-LvP5qR95EfLQCsof1CzI9YFiWvnjSIpWmv66tgFp0-tM7zTRFQNaqXxs0Dbv09cnrh8xa--iR9BhGOce6G2k2bdSRNdfqpytBRP0bAAdqsmNMC-y9RJGFv4LVqGXCZSiQSLqNIJaZfVv6CRp_G8dbot7gWQ7nJqyYML4i4SpxWdWK_K8dQRUTRY1Oe_9sQdFfpi2LQC1sghBUImoGUn3k0hStBmiXcitu6A_qOZWmaWSQRFdfBL8tOayIeZ_Ut6pTnrDRMAxQ3X-OKkO0BeXPHmCyiSoJr56uUO5AeZbqAWx17ZET0FOthgCBwtM-MvmiRjqlJdiSOchn7ieV-WGsDgdkePZZjpfAIZiGS2UTelJFKutICxHmEv3QjBCcGWirUQqxGrrjt7x8BJi9_leOtbOdn6tJuEXexfrQTHFhMh14WpRmGaqdzvpwMBmV9pKlKlNZMzG_HEyewwVxpK_zfLPDe_BbMU7kqc_r0UkvrWobocmQVXjNdSOdXsNcC9hd9g1sfmnTURSiFBpNwLhdSOtQrUgabxyuSY2dgqjip0quWwsobKGL0UkGsCfReR-ZddUHol9rR2GFoQAgaw4L5Loh5zjUXp11q4opbN6kBWfcWed8ekndjHpBRppdbHiR_8bxAsLNfE1KUAf09eOYZEGU28fVMUbPteB0cyUkD8su2nQiclIq34UgTxlRetmG673YEnLiKxweXi59bftZY2ytjOg3EIMUOFHlaIBBgCxE2NVHlLaYkIRf7ohnSe3urgkKMZoxrIdmIqqkouYgk0IvX6nnXG-fWBaqkQfEIGBeWdD8FpQA_1L8jCOWznQ1e42Qi9AmekhaXqqa2wsH4leuFVA0YJuUCSAN9cQHNcfFdBeHD4qrhboJdWgItYcu4sl-qbXd967UGVrWrOOfFvqF8D7_MMiYZ27cB09GAVhu4uQ4kLfglPK7gvSM6LBMR83cRNZPIy0NpGJF0HA4P-aj1Dp3MMbCPlqmH17LqqYsWaC9s-4stLdsylLInCHzHngEW5mpgtnJr0iPDCC5GKylmD8Ao5dVXJZZ4EfioJaRAqVzDLQYKxoXhIAhGvZwOFUFaHq3iSX6tt_40uVk-lcAAWz6ZNw2CbwRbyf3SkN0WHBeQ0ITfE0iif2-U38HYOaSdfZJfkdg5iOKCccQOguKqkVl6s53pG_0USCayFM0U_XrrkmCLEd8DZkMdTa3YiHU9tDYqtY62M_Q2XDFSPKLU1biRQ5Mu6UW73gF5jdTHNBNSnWrPbvg3zk-yuTVLAeJg432nHEjIVyRq5YIj3ZLMvuABH9beZut94Fc1K0J7upi11x7zSeo2770-7PouchbhaxadbmJtv6wCE08F3Uv8uUouR5J8udegMpCyKziXbBDFQpj6tezTxVvPBY5u43OCL8FfhKsEZNE03mpg5r0fLtJYf1PwigvTVIinE9xYPj6IWqqBn2gtdqrmz1Nv9GpahaxUId_-ZwIABBuZoVbHArUA6Csl1xXJubhbnHz7hESx2GX3XZZzkC8F-cUsvVLZTywnggDyRsyGUecUkuCRILDTHCppytV0tCvFBTdowKFl2uSpNVyLnmy9CEmwm8qepXlP_f5my4gQ_KuWrshXI4VDLfZQmx5q8sleCD-DYRJi8c1pRrNgTSqegkpc7sEPp6Wjts-oNkw-bO5y88tpVuL3D85yb-Le2YQdpKW5vYtIYjMIJkA7KHtOeVexQVZndOsYv8QM6W1E7GnzSAK9m0X0ivMh5V6N3R0yu7AQfxqIVicBIKw-d9ITdtNbQ5NPxIIWBatvasKL2IkcslYfcDxmlXUQf2YREaYXQG-kw3CbubRcQsaiwXbM3o6QmqG9hwWy5d_q-l6pH_dlkFAV1sABifu3kbv8P2pnWlKoNGYXVE5eBNL360DmqPbSqXv1lBeFN2cFeMVi19LNkYTlzy_dEornwzGdKsPw5xcZaLmle93Y9QNLExz_gsUQcKZVKaTPwa20C8w07c_W3pYOyRwsS0bDlAe8SlVT-O4ogy2wTBNEVUMAo-_NhflS1cxbhWG5sg262nyZuPjIyJT-acqRVr09MWugo8WKaDxwUVTkSZJUvHbF_kmalZAM3A2DgEOgdUmr0yDZwvrxgYbYvKElcChBh2Wv5JmhhLFya2rXfqayDCQ1aubgc5UBMPRCixzWXN_VaVVKfBtjeaV1zdZhl7NRMgIkj6uBT8wXYMZns4sdRmh9aBp9VxjMrTv5ews2Yw0xNWwwXn1iimF3gNE8Iika9VpyA4uys0WGRIInOElT_P_akWErIIPlZexjaGP2CbhgcqY0usr1Aej4T3ZU14J60CqXMAhAIQ9zNsVMjim6ppCKyLImlA-IQUke6vqhzZIwhru3MBiPyFkSholwuSmvhPtmelKpbbs3hxBoe_RRFCW6oKivoQkbhI-L6504cox5jKRCwokefDydlNUgKM41OIyKqf-zLGIvZtKyUbR1QBfZT5qUwxRQroXRMY9xhYYoaEldjvNq_vnMhpNigRd8cZQZK_0P0uf3cyRqwP22l1qWEfSuvpEZXdwRLiK0HqdmrACza258WlrEqfI1CQcsvk6U6xTRrn-jxpXIMeYm1q5aReqs2HrmfwfwwjI_Stmj5XjSPlwrYkO7aRH2imcgLiiLyqnMEY3uPVJG-7aQM6N6WUg6dkW1PH7CipJ6h5cxrSvKaqYGoOlXI2OqAf7jTUqazHp-vjdFeVXdyhA7m2As1sptoRXwpn43B1i_Io4NIGEq2pcnEe5y7b9FlQ-F1VdnOIRbghVktHejNemPYruSSYYE-M8E2B0BspaBCwoIGjFjkQ_MpLqc2eJ5s2iFm5e2A-xr59qKbNCqnOLhYCjhmfC_1uv75NO1e1dBDAsSzjslHYLnbZSCpi5u52OJHZkaA8DzlKZvoLCw4SHq4dqu3HA9U_PSliFFWW2kJ1Uu0m80HqEro2p0hkp5bycmCRDnCfBNFhKEtFobfVLSxJiAeTqDGJ23guus1bZIemgnNSDqvi-mQiGMilNBzGQ2vsQApO3Fk_bvMPxGy46ZbSumtKio_6VWGbkzeNBXivYxqsyEIfH6TIppyw7C20U5EINXVWbArfX0PeNJypSq0azyUAfbCpeI1GjCmk9y44ERzWhJL4cNwuyX8eHRdJxU4eQEnibfvqHL5CZy4aswFJphFveuMIcqOnGF6pk2UOBJ9KMlJVtm1mEldLha9ILwufpJxmq0hXEb4Bnz700ExpDjnINxs-gk5TiFlogQhJV8y0qtwKsSPJmpSsoy7g42OTZdRoh-MLsWo4FiJ8LsGD5912XjQAXHP9OdHeLf5VJ8s5vJuVJVT7dCFlDYiQo55iEuGVd6XXi4QYYELn7W6-orDfLzaf8HOK3NGps40etUxhU61V-1QPXqPKjeeGdlsUV2vbPXMZLS3sRVV9JVRpB-k4JNmxIerEBUSva2EE1Di8zNhpYxdrAHKSDWiKtLcNAOOCVCeZ-pEi85xjceS9FEi3MGEUbSEriRYjUqdHwj6HJeJc-6Q0H4Ed-6NDFZIp14aOd2yFom0pVAhnnuTZJmiyifUeDt3D7tLa_HlhNn96aUyXfCujY49jSGJBbwVYnfasBIgFsuEYpXm2uHoHfOcB60oo0dHJLiFiDrzSBSgVSHtA1lSO23aBiuHleZSJPvVSJTiDtMwRG6xBOixn-2G4WH1Y1gKZlJECurrO487EMpVWdtXgNJyJxm3BTaCco1wW0iYaAqXXwNAhjLDAKvdisBCRIAfy0KZIwqBiXjmWfwb13GRfI180Q0G5f8bKJb-wAORB1SqmXUpf_1Jxdgbon5IS2fVCJ-7to8-BciRKV-PamQhs-W9G1Drfxc7ZFgQGfi_7vIIJikssUEhFJvvKFJyfxHiXWihw0ArTDzz1G9fkiI3NqmIG8ypeGE4qjxTL59HoPXATuWNdWpowPYT1CRlqFVcvx5mOxEPxmedzeopF6QItwxrKIqDM47VDdXR0WMN2HqyncQdmNnUrBSOpB3a_VCqQATwf0GwKjj4PL-0HJ1y7A7wrkUH6Ae83gZKRALaC7mQ8m-g2VcIjb6N8tGwSwyWRro7wvcnlZSMl5WvJggs3zzZZhwBt96gkfrlEHEjnn2yiEnQRmDkElBJym3_KrJKvsRN-1mHjoD5p2Ru_DVSTieJCliksFdVdFPqiLjkt-5ketkzROuE-iEWGeZzVuxx6WTavLoLA4lyTQCPS34JPVTyY7B0SrQ8kBdDNI-0LwCVFxKveo-pE63YD9uD49SI4gi_Y1gUWlmmQ4eLoBS-wVK9NNsHUfa3VFKfJWDYdWk-4yufmIb9MIamSpXQ5jVNYA5ws69365Un4809hOwEz2-Ck8ZprfhJeQ-KKYGsz8Zo-uNMg0k3McHAM5WfZA6BTqkXY427LYe3jCrEfW4SGeROzwuHKS6UhmyITPuQRP9AaOBaWko6PK8iNVEsarK83ornrSWqPp23fOeFYmEsh-Z6PjRqYmuLJEU2XgZp-3r8lCC8wUQVvJhgikHaPRWoOed8CTY8EUZ2CZXUQESpksof3ekcPCWevraSuxmf5lPJYrRuf63urXju6MebeQimnEjUTjIi05cjlUR9I0BANxTYLBR04fsLrpErUUjxcuDorMb3mrEVv28thrzPao4klTqCR0R2Jt3ZrrKSY5oDZ6q4Dxys6wmuTMixw8XA4KJzHa-yGALP9l16hmprB_Nlmt_KmTKgG0aQ5czHu7zsvWEhj01B1QfUOJUURuVkWdIstlsHTbnmU2Ez_bTNPeho96vh4Zq3xJZlSR5wzbEzOjDWVrhHKGUG3blEexF8W-qaVeOSDKCU6JU388aCLLc52eyOUk4y4UDVLS6qeU0qzDUQCyIFTxO508izoFsUkSse2DWkNLA2d682lfjPLXYb_sMcEslWpGF9PfIiXPaPGGVbk0qXR5DKIYvekvlG9Mbe88Gipfcz06x2l_1hSAxtHHg7fkgWVtaUnHWNAbQYVqSn7I8pFtIo8Huy9d2mlntkIX3fnWS2cOtVeN3EhKm0cLKd0leWc2IGyFjuDNBkm7iunrCul3sX0dvL0evt9bqTLnq1uKgPXlhaZDuo595ftFSRGuFMIDnIjj2tSCgS1xMRcncCcvpureYNqufc0uIO763zCSr6v2Wa7YXYSfg1HvAJ8msAvWwju4YCVbsx6uIZ9BR3G9ou0bC22Rp-glGuXiXAmWLfoJFJzPhE25tVQeU4nl8IEqhLgsJdahXDkofBf-IUH_zJtv5yOT24S5ENGGC9U76E0au7LTSEDv4xmlhCtxFtglzUM_mOnIBntzw86RI1vElCbXtglfQpXOD_JNPg5n0zDgz3q14jBzKced6b59NjzgquwiORJVWLin4akTE1F3Yms58DvSf-qqLDjJIob-MWoqJMcVF8K1iz8_DFUcyOJy8m_XpKWAXJx2mczQ4L52hMMnI7TdJ-TFHWPliR3asGa74AtB0jv2u7DJuaSja00o4YTQMwFWLQ4YMNRzbPCjZ5tIsVdqxrhKiiIJeqdQ2ZXoCPt0EWbRBWLo0HFhLPwAdnjJttdV5HtA4PBbm92sjzbohP6IinKC6eUIfICKSmSvD7gTj5u4RajH8viNp9j6t95pqGfDCLkbpaAtZAmVj15qMiJIX-5pvIhXEpI51HjZWmN_6xpY5K1f6m63PX3ofLVvUKvWS_yQJ8Fcv-yg9Nm_r-jexSCVusq9udtGtn9re79OliIS2MmVIJ8iABYK0v2-mWbvW0NLw_2lvGXSiFBpQpM3Bb787_JiosX4Kxsu5WFOkXJStWbGk39SRock5gWliWGQ9XVq_p9UoZSmSOwTbgVYqdlmUTS1NBRsxZRRSqHX3STSlbOZPExZhVy6eLqquQv1SYHXeb-pZST5Y1yl7mBTTg96OvXZ20rOUPjjc7jTKJ9u2TpM5LhmBc8RLoItSaqPtgyxfy1WKKVymgmoemr1H7fGXjhlct80DjldB_MXAwEskufpo-HXz82fRF8O0ijC1uQ7OXD4-YlWwD4dhNkSxZxrhfZz6dbz-L3gbpqvrdsWJCCmAaSRrAr2SHyMN0bgsMHQbMrZPWJ49wHlBXfWQHVoIX2afUzcrrJwqYWzVq8SGcR_vVKWRRSU25vMStDgbBLCrS_L5Gruu1dysY73HGn_P6aWKzPTq1D2J70ZUlDzQJQqYVL4b26JYDCNrm0xbpU5Z2Avi35U-82hdo8D5PKyhYmvpwvPSa-tzw8Pidjd6k7FHVvjvDzCpClreFKuOiDWmGnMz-9f5ekZOHo03-DS-01DYaOe0sg7LiYHa6xSIK3_pIRvRkEIGRocxCbU4HVAsbNFl-nfeexRi4R93fgPIR0ZHBOzRp_ZlriZDrUPVj33OzYqe1ZnDYn2clH5sNUqRCKb-O6QqXFjVTRAlMqnK0pm4Ro8sAkQ0xlCKvG4om7iv2BPHvlmMmS_aOpSSDZegqOceergOTc0WoA13R0uUHBG1jQYUH2ZUVDjpoF6Ud0tK-u6E-9soqXpLlL9NeYNtSpy9r5HM3jl43l7jWIFYUr8qpTEgHObfJc4vRFrsw8Mp4E66ZMW4xr8P7DbOy074tju0rf2EpK_Ts3BTv09QNCmLWRXtKH057JsizVaUhxnW26XRDoghtYYEL1djePWFkBL_L71SRcLcZLGM8icLuIqJwN31YM8nx1qT8fdFrsCSPgWFFz5tGFfRxv6GXHZTnfU-1q34gLF95mai7sizh0pKzIDTa5gH51VBErKZtLA0KtjaapRgldSdyhPR-E3XXN8lBM-Nh29cRq8TCMF1KEFJ8YrNjBqWmaPtSmwvRr0pGUoMoUqpAyv_cJIAtUaDReE-HIMWasM25cpcCH1eRwUMQ2Fpl1jWML4QyBoVcOiu_ED_Kg1w_0rv75uYpdkNjaKwQFOgf25_s1HhoUdVALu6ba7BZ9JMckVWr2Et0lKeep39ARQ8nAkpIrvulmWRq_gHG8z034wLU7OG-LUCIbpYotB_ODi8uVgN0VB63AWGvxSzUbEGiIFm1fHUVl8YEEOI70p9pj6r5vjAvllE7e2vGy4O0q5YfL_0MfGto9yYlnsgfv0QU3T5Pp15hvkkO3adlKV8KhE9Yol-jwiWw7ZOUgyrkxktzXF5Zum_20_gIm40WgmdIysUA1Bw-pKbQFXFn4cC1LHs93gSCdcgzEDo0UDDs32hdJk8oc9WdFN09czWMFCO94MGCZNQqu423IsiQOr_ItE5tmIgD4jCQIAeJTtg5Ahk6cEL70N5b5cKVdzUS5VV28oLqSkvuUICaL5oxf6vOnfidbRQE0wkCS9hs_vsgK-qQZIx_MYp2zPe4kPbGTdI1aKA4HECHGzFpKNsta88-pZkv8YUaSey70_XUlPmlksPzeG4VmwvXskQ23TRdkDy7XQeP-3B3j0FW2STQ9YC5NYYfcgA26v3RZSDLgeDZCjrnWpswdHoDlsy9yyoR5nX5L9STTIJuU3AKtfJ8j-22RF9G64Iyk-pWcjcgr7qvBKH-lP481q9HkgcgeLisNTgvGSSVOI9DDH6uw_3RVJRSZ0UQfsoFJ_LZDkTu6hKNr_4XDif-63i9cLjOIXwW8sklelrvZ84FERIV4T_JpmvA_gXWCBaYrT0TLgzjgZoZ57lnaxJWWwWF9scy15AkAUVnnK0dWWlQYJd-rkz_WsHr1V3_jgU-cw-pcjEjdf-9eCcGKPfvbivJuW1Q95JT6TQ4nnMJQNNrv65Zdaf2XZwk3SgpeGzZzPN2hzNMxMkc887ruz2Vfr2bnpCFBirQPn7tbSnWnb80GlbibylL41d_XO9-d7qYFKY0HxOTi9zmljMjd39N1LGpJFoR10w1bKvLL9oO6Zvt6umMrr0B1mslNl3X9b287TCmTpdtt2ufYvrDJ1vA530Yvl0n1Jr2NWOMi_lMGe_uW0Hbd1qTvX7dnMue6UYIOFYoUqXo4wgNSDIDnRkGq-BJ6oQSQwcHgxYqqKNg8uriLIeBRkAIIRzfs75j8yUME9--IAPLYHr88VqQvRPAEFRKT245ypKXkVzJMKI301Iv70oHmbQEbZ3oSrwWjRBZORkUiK7Y7Ylx2ZzNhodPYA0zpDvAXovJrfj2hhqQM1W__092oZeVTOPUGaVfTOsKJxJsVKoLQMgVA60Yba7NjRflU0gtzsbVK3TF4wEpUV6EtT5Qs06h9fRhB_ZRq9uhFret27thK8H3rQzGPsXV86oJkmo2QvPDgSOKk78TJrnRyBFQXWhnzD3emBJg-9yq6nv6DOZ4gwLpdHvcPoPT8Hg2jEy7jturN1X0hOqtHtovkDhU7qxsVAXo4VCyY5kTdWYjYY8SKJRgw0wX-9NBlH72iWjVizc2eVZNbVEtAELF5SqBY0K3IraqwNgNd0D3TLGF4C7fDkSuO7w4x5LZLJFGoUm5r3PefIH8-GfE7YP4xV0ySRCTiZbTL4iik-Pz5Nd6oEDx6yOFs2kqeXPDJjsGekS3WCWV9imNr2V1AaRTskcMiiyLWg_y2Bku5PnvJmT_DySNNbp30nlyOBX5dBniXgepqxHBh33EHuYAWM5ApEgK_OiTM-bcTvjNx3vfVTlHD-OuDGebpJpPyITY6HR334lrpAotlvOyTB0MeZsN0qAJwI8BGDJEnnNfl_Et2pjYne-iPR49Dn8vIdmIOTN6yW2T56m7OVS3bKtUqEEBa8_ImNCm5dtpuRPleYNPMLNOTdYS7oSMsMHPjDeaLe2Q_vdr5bd6kUcZIt8AF2J2R_QXd0FRNN4-2xOCkB9auHgGv0Bq2EfrU8Xz98iB-hn5zLZcv99nHXq772R23KoRbP8djq9gh7HLFzqys725VMQOqP9JF4vZQ2_l_nfS44SdYKeQsWDgS30pWw1Rglh7u9UGJKXaE81bA2otyt-tXpWdXh5WRF4v1hKbUamH8O4KMGw6q56MUuGhbO697nEtxOCpAQ5KlaG7udIrHhyAlDNg5G0aBer_KQNmi9O-7JJoJz2no0ZxIi3mcBmfXbEt0B5DJNydMWpNIeJdz4BIZ5j_dWpLy1cGe2TKd-uCQvtqgGpNO18ecbxxJxVLAia1BPFyEIR_dyNrQ6kB1k3AO4iAnFHcr8QEOdzCehJBuWHiUNkc1gByfYY9WwpMbKhyAhr2_m_tq6gTEtYV8OTF0PXuWAJ0YR1uVJfeM90w1J7CTOaGZwQBOyibKUhp08ljAhGa-vGbvYPuP8vA6XYPpJKnIuNjkklGSp-1uQENgtaZXyOyFQlu59g7Tp5OKLL-KRKfgpgZQ2qGoGOhbuXOmEvE1JBvdClLH7hPbOft-VlP7kgS_ddP4jqIgyGOeuxGajlOil7j1IcV5YAL5y6WtNbenwqwjYxWikSaTBjnCXMDOrcG_cNvaS1lumNvkC2B05JVjW_OXba_-bWTt8msArA_7_pYPhMkh6tLVdxJuvb9PN8PoeSleVL-4zHWttfNKUt_8XTskRtFmGxSd3ZWQwUQpKR9YYL_NXX2a1oK17zb_vkGpZUfvFPUmtePlhun5qdYvksOq7a-JDjvZ-vfXvqVlXMzeUO6Lll8-ZQDP5k64lGIsuN-aW8pG2vqNSkwM98AtlLK8CxX3EFsWgbMC3g3nxTL6gKjIsMdLuteQeRHh5uOytv6-LxXLfzYALC6i5u_rdF0-EezPn9Bdch3G_rBGOyc4jyvwaWRTjRJKcolQJlzrnmRSm0209SMZXOXKZz7JVLu4F2_rCfaMI8_Mr7NQVvsYz9wR7v82SWE-jiKBxZQceCy7w7x36YW2dpu3bBzVvn5-Nxc68Cw8sCFBuivL_kg-cycXwrjcJKmuV3K1pwzAW7MktnvCU7xhS7sOHe_v-zrq_Aj2mdaL4xcu39AXBuc7aG36wC0Q-M4Tc9nHenXny3HQZf5wa__lNxPcndWa_Nv7n31xqWpACQv92duw8oWANr0O698yrNDJYtGmzt3V6swgNf09YM0he7fkt9jG6iymKDr8qzr0UrPorW5RIrFiQ3qPgcTPV5U1g0-f4BmqqbJI0vq8VgvJsY6f2d-fN1oZjrztssPEV8S17wv_kg7i6AZ_NYDzssxO2hua7jsC6_90wpETUdVuyzwR6k74G-ZcrV0tY_q4nvi2oQE78_s6ER3POx-Kp3xrFs-FdDriq_hhd07eNNwmYkNXuvnuzv7Q-6bLjIHASS6mB01kS2HrFf6Br5Y4rhd742vu7t8YFVrO5feTbNOW068Ic3e_3mlJ9V33nyi6ixUdj4aAS_gxbIn2Kdzi14p-LOZu2_b3OzBvX2_KC2Ojrbihx4W0Vzo5qgqY4XTgReKvSXKfXRpjb6w0zQlkZMXhr_vBv7MM0Nb--sIV2TdNOm-HAvVzGfnNGf7odcNUt4VYn51BcAQNaO_voLYvt60MqXJCLMYvxmknexNotvSR-vYv5dET99SulhY-TxBdfL5uHm7DNk3N-UTl8k-qXQd8kaadO6d8vTMWOtIgRQw4c0HiTclRU-9Uq-PDDjaaixL4nIQC9pWNrPbqv891MPRq-lnzBdydPsTTP92_8kVZfHGnaZeBboLV018Fdle2TUPQrt8h-JtfYetKudBVeJ5PSS-0fZg4PwaQknNaWapTO7r61km3k8xbTKQqQ8fVffI0SXM70I2XwG0X11-UmMXWeIzT8Y7HA5MnF0mhV9Rky87FQ3fbms4ul2FJdVZRf_u7zgzjFyBMa5Lvf5mcgl4YFlIohU696febPhYny1LccPq4pE-5p5W45mnpZk18WRs5nNZ0JaWinYYG_-N0-a4Qn8cVkjoc2pXS6hMUBMX48DmW6uTtMe6hXcR0v2gEap23lgP6pGXka1NacbdIMpI1B4-CN2plSgQ9yPfGZqIbh4C8-AV3JvP30ly0H1-vcgB-4mYV68QZleYuyp-44S9qFQFQLRuMaT3MXdpMVdxu0WMpkO7uztMSt4qJeLtOzRjZEccRJS-DbFHQkyLQ93EtFJ7L2b2xDDSxVA3Uj0x1JftUmlDSUjcCXRyMnDrXHPTP2T69MD5GS6HiCA3MnhhFzfWPHmJ692Qfp2GNtbr9sBtJ-Luc4ZH_kQII8Ha4LAtmtulznGBS9tKRs3ztA2l3Ho7RKSyQbcs7UPiaFqmEmkNtrt6-8z9bO3tO',\n",
              " 'sample_md5': '',\n",
              " 'start_of_fade_out': 379.85526,\n",
              " 'synch_version': 1.0,\n",
              " 'synchstring': 'eJxNmQuW5TgIQ7fiJcTGv-x_Y42uyKs-M1OTSvzBIIRwjfGsp0U7Z7f-vHf0dqPpua0Wt8Vo42l7t9P6amO02-Zusduc-i26fua3reG99dniabnIiDajjZy32jxtXD3nNlMTte5tvTN9asH8_uY2bea7aP1qckx9z4f-tvnZkt-Pnk9oT33InRie5t3e9rXpV0Nzova57Ploc715c9p4Gf9ozTl4vbVyjl1LS-aA-bTO5vl8-Tjbmn8fA_tz5koHHM1bWrQfWTDTgHyvDzKJndfVafeb7y5Oe0bbp2n10zVJzn_0Kp87ttkHiojGacgtT3TOs2VAbpo2pFF2nSx-dN58P7FHJj8aODXzyPM3_-HF1QACkJ84QNqYrt0Ns_-i-_oF0DAUDv_kcC8e2Pd4cn6WIzAo32k7vcp5B5xsuWc4ShdjCVwGZxPktGRgyagh46n467RaUC9u-60zcfICe8tRWYRekPVCR47W7ttHT7fk29xSNr1lIafRl6l1mJqgHG-N00pdGwvayot8Jw-Pz4OD1QXSUyBNS4Tw0AoZz3dqaAZcQew6y6uEe5WD7SrI4CoBlotqIkfMpWxGPs9Zm8mkrk_HaHyUB1dez-UPubVsaCiC4ykTDkmttJS73y4k6eOWQUNI07vtWPso1x4lzYJsyHzNbEjI5ac0Pl_mguTpJD3WsFNz2ouR6aYgSmkq0_NLkB4gTKmzSUYhU_mV1nedVOcRHDNpLiiZsMjEpEuW2nXvFgXo4dFI_Xz1oMG4TTGRNRolNNypz4Ly1BZTMGVg_vKa-V6ZjiNeCGY6r4SmgDWWs48UTWOOYiZPBB8dyA69TLxA5PajtYKU7vHR5sDBTBGIhnG3gPg05IfQ23sxyjZoxRuNzVZx3q40CjEEYNWEo68K4Avz6lynUgrnL9MsjhCuTYxDyDtkqBngstsh78qU45QXMY7KYyVQJze6XJNwgKmHjDR2j5g4XTK6OXvDi4o-Kb5lzBL5pVeEQqUvTDVkr6AjJ5KZaSqsJ5ZlnS2PnYK5TNFvQG9BbwGL699bPpgfJVx-BmwQjdkRXy3BK4ucz5dkV3fysSbMYm69sOMLmgb29-IhFZkoCgTPnfIKsE79DurrEDFNadsloFOKQ8chd97mGnLrZ-2_XRk6xLb8ZfPl1RLnb7ztHJuVrveq4X7gsT-_Y2kco_TQb40hNP9tAyjyQVJgxUhxoTSdyiOdEvvlNufZUiLljCDO_TG0QLSq1FRyQ90LBlYB787nQ_iDEgP5qAzZ_fLe6xfHvvzKmv6_Z2E394hjAMkBMb-Kt-VGsNVdG1wYRaubPHj1U3DsBPZUBU37MH8rijm8X1ddqu_i07EhE5Qys8s3j1E0ffRABwDLChqgWR_AVwkTqGS6uGmCskBLDPlXv-QCi32ny_YAbFcekmnzVok9quQSKWKxA7NMBXmSEZf1byVsskLndYdJ9ie89BgKgEouMTR5pqempRClytLlQb0doz0YPShjc4EdE16QOQpGKCMHfCCmMdlsl93bCJAECT6ZZjVwSCLAXKlyTaFk6jDlOysDCwL6e6zSRBj-JTZxGafCuk8JionVwgknf2qxjpGA7mxLrmODyLRNHi1MOVYnW15aPmSJyeU8M3Qm4wbQKpGIb4F-RzTN9lFdN4oePCf4JLQkYF804Td1kYTz_LjFwvFhS1eGEp12wkKKa8RT9Vy7WI7KLTja2SwfbBRWnnc5nalSPhv6vndD2-ptS0-BUjNSjlm7FFdmIooT0TQs8J9Wfv2UK9sG6kvQZ-dJGaJ8boTdAoJw-30Kb6jOz5DuXkcOR8EHPLDgIBELOrCvAp8E-1-x7NTv2H8etlR2vpFVM77XRsoov0u8hAasW2N89lUC4VQwdMZqwVa1JKLSPlo5f7lPu1U3TKP47NiHy1RdIWAr622DlFSBlCAb-OgQj0NTaNmwnnIW6mJ3s8Zb_QhtDqR36hCcXf4DGH1X2gyFGhKcaO3xVlZsVNf8EiEXhFLQoKLAC99dqkmYu2G99RVoArtIiE5y4VFVdOjWMdTCd3wHMi9vO3KU5_IgQjZ01q2jkIUOtXWOkyoQDvR-HntGUS6FQWo9ipAEbSmaTXmyqC13wGHeetAMyMbXuq2os3-YRuaxDM0S-nVWskljtSjF5-doZoio35dH-MBh-lsIVjtgFksJW5QYjaHnJr88V8LIjQQFiMXtI41dB_qmdmDoKvYWe7DSgh9NrK_qmutikcoyPR2SKnc5448xL2Jdrh14PI-_XLgex9HtxksxXlWBH43p6Fs1Y1cnU7eivswdmX6jwZRAEI-S32tAehPBkzkwZb8OQaMinyYEgNsaxQFWkb3USTndNRrFoFNP0nYgIDojyJUwEuiA3MlvCqB7XBffcHp85csMfawaRv-VPUxcs_qrCCuLCcPfK319nkdd2zK_u-WTSQ_i5q3Sol5sl9aZbjbQBWpKrMxu3Y28xYRuNwC1uGaUvLvVmcxu7aiTHmvgcepmJpN8PdVRjNe1uaO2qY2fhqtLIbeeh44wahkKT8i_Eue0t-GST6VRe9ZO9dFwlGjeXpqFiVEKnX7V1STcM_jO6nFz0LmQ2iW_5q4WGTWw626hbMW0-V1YeKWgvZhcnx1qi2XHgC7GsgLSGenDFCIybrhvyaq0Z5U7rhjU5uJCKqR6DYkF6NGb9FXE9fz0kctTH5Ukq3TcxPCJJvBdja_qDjcg7tYHQmS7B3JtvcWlQQmKz8ux6-LmYNux4FNO043ZaZRClw2GjNINb-GMhJI5zYXSoHyKZ7qH7BLO5JC6bZDwlPZEfg06mEFyjGOpqW1esvw1aFYBciJuZE4nBpYxY1tYKXoilcS2hRIcfMyj0asEbqeDux5X_JJO1quBvNp0PtvdBemt_p3d0GPjVkIPNEKG437H-or98V1nB5FUn8BbMKCuMi0oFlcfr-5BnBuIgwl7CMOPsR1mOTqw_pUJeFYh_y5dKQtoFGqt0sHZiCnL9K-eV_cq2xVdRLT5bwBeU9uOamgAWjrhpTi-wx0NGB_C-Cqh_pab9AylH6vCXXyxZNzsCP_pT7457ISZF8s2hJEAm6zzXSf0us18if51ARVMlisEgmJWJ79dmHxXAZS2Y9Mv8Qs3QM-o6013C5nSm5J1qFn7_UCiLAjM0M3TalUSfe92VnUi5uc3jC-WmDA4rGxHch9wXNSpmMNn-ZQg1zIdMWRhTKF4qsND57_g1NePdVNLlvh2H_gE10Xj0wULRoz53_3TrnQI9JBvR2MXU7lszF73FtBc-HZrTF9v8ceKa7AS-FlyEj3RERSP66yvorvbrL4_ecOBJk7t6KYoJ3TrDkZ2WgW3keHa9Bb-rTGLgi9XICXaqhKXtIN5j5Nn-q6D--iOWDi-aSQaL54v6z9JZ3dxnpJ8PUp_-U5cMbB-tZtorpTq5vcwZ9V1qoVZj0ITrOwz9FJmmjlWCb7w9bmq37W8YVL91aRuaElayKAMGUUAQVNSO4RbD528qNuw833bd5eH1HnqBqL06ug2-fi2pqK9SnW6MV34fqzvDwaWXr_L_yj3rHLecsMyS67HNSQcd0hqWx47fW79fWsab_5b2Kx7677tlv6JCvHb_Adl-cEt',\n",
              " 'tempo': 121.619,\n",
              " 'tempo_confidence': 0.404,\n",
              " 'time_signature': 4,\n",
              " 'time_signature_confidence': 0.976,\n",
              " 'window_seconds': 0}"
            ]
          },
          "metadata": {},
          "execution_count": 61
        }
      ]
    },
    {
      "cell_type": "code",
      "source": [
        "sp.audio_features(ids[1])"
      ],
      "metadata": {
        "colab": {
          "base_uri": "https://localhost:8080/"
        },
        "id": "09jy7qbxhp7y",
        "outputId": "ddf5fc07-859a-473a-a8e4-450c53f6b6d2"
      },
      "execution_count": null,
      "outputs": [
        {
          "output_type": "execute_result",
          "data": {
            "text/plain": [
              "[{'acousticness': 0.513,\n",
              "  'analysis_url': 'https://api.spotify.com/v1/audio-analysis/29FQEJUtBAnxWEkux39d7I',\n",
              "  'danceability': 0.484,\n",
              "  'duration_ms': 411387,\n",
              "  'energy': 0.554,\n",
              "  'id': '29FQEJUtBAnxWEkux39d7I',\n",
              "  'instrumentalness': 0.00207,\n",
              "  'key': 4,\n",
              "  'liveness': 0.0533,\n",
              "  'loudness': -7.064,\n",
              "  'mode': 0,\n",
              "  'speechiness': 0.0324,\n",
              "  'tempo': 121.619,\n",
              "  'time_signature': 4,\n",
              "  'track_href': 'https://api.spotify.com/v1/tracks/29FQEJUtBAnxWEkux39d7I',\n",
              "  'type': 'audio_features',\n",
              "  'uri': 'spotify:track:29FQEJUtBAnxWEkux39d7I',\n",
              "  'valence': 0.235}]"
            ]
          },
          "metadata": {},
          "execution_count": 70
        }
      ]
    },
    {
      "cell_type": "code",
      "source": [
        "audio_analysis_result['sections'][0].keys()"
      ],
      "metadata": {
        "colab": {
          "base_uri": "https://localhost:8080/"
        },
        "id": "wif0USp8iNjf",
        "outputId": "08beb4cf-f83d-4a7d-c760-e4eeeba47e73"
      },
      "execution_count": null,
      "outputs": [
        {
          "output_type": "execute_result",
          "data": {
            "text/plain": [
              "dict_keys(['start', 'duration', 'confidence', 'loudness', 'tempo', 'tempo_confidence', 'key', 'key_confidence', 'mode', 'mode_confidence', 'time_signature', 'time_signature_confidence'])"
            ]
          },
          "metadata": {},
          "execution_count": 90
        }
      ]
    },
    {
      "cell_type": "code",
      "source": [
        ""
      ],
      "metadata": {
        "id": "XBsCZue4oTEq"
      },
      "execution_count": null,
      "outputs": []
    }
  ]
}